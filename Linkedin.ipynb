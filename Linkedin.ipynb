{
 "cells": [
  {
   "cell_type": "code",
   "execution_count": null,
   "id": "a026c683",
   "metadata": {},
   "outputs": [],
   "source": [
    "from selenium import webdriver\n",
    "import time\n",
    "from selenium.webdriver.chrome.service import Service\n",
    "from selenium.webdriver.common.by import By\n",
    "from selenium.webdriver.common.keys import Keys\n",
    "import re\n",
    "import random"
   ]
  },
  {
   "cell_type": "code",
   "execution_count": null,
   "id": "37f24f0a",
   "metadata": {},
   "outputs": [],
   "source": [
    "# old version\n",
    "# driver = webdriver.Chrome(executable_path='D:/jupyter_workspace/google trend/chromedriver.exe')\n",
    "# driver.get(\"https://www.linkedin.com/school/durham-university/\")"
   ]
  },
  {
   "cell_type": "code",
   "execution_count": null,
   "id": "b5024261",
   "metadata": {},
   "outputs": [],
   "source": [
    "s = Service('D:/jupyter_workspace/google_trend/chromedriver.exe')\n",
    "browser = webdriver.Chrome(service=s)\n",
    "main = 'https://www.linkedin.com/'\n",
    "browser.get(main)\n",
    "time.sleep(2)\n",
    "# sign_in_btn = driver.find_element(By.XPATH, )\n",
    "sign_in_btn = browser.find_element_by_xpath('/html/body/nav/div/a[2]')\n",
    "sign_in_btn.click()"
   ]
  },
  {
   "cell_type": "code",
   "execution_count": null,
   "id": "b0eb27e9",
   "metadata": {},
   "outputs": [],
   "source": [
    "time.sleep(3)\n",
    "email_input = browser.find_element_by_xpath('//*[@id=\"username\"]')\n",
    "email_input.send_keys('email')\n",
    "password_input = browser.find_element_by_xpath('//*[@id=\"password\"]')\n",
    "password_input.send_keys('password')\n",
    "submit_btn = browser.find_element_by_xpath('//*[@id=\"organic-div\"]/form/div[3]/button')\n",
    "submit_btn.click()\n",
    "time.sleep(5)\n",
    "# confirm_btn = browser.find_element_by_xpath('//*[@id=\"ember20\"]/button[1]')\n",
    "# confirm_btn.click()"
   ]
  },
  {
   "cell_type": "code",
   "execution_count": null,
   "id": "66aa836a",
   "metadata": {},
   "outputs": [],
   "source": [
    "search_bar = browser.find_element_by_xpath('//*[@id=\"global-nav-typeahead\"]/input')\n",
    "search_bar.clear()\n",
    "time.sleep(1)\n",
    "search_bar.send_keys('The University of Sydney')"
   ]
  },
  {
   "cell_type": "code",
   "execution_count": null,
   "id": "5a18ce04",
   "metadata": {},
   "outputs": [],
   "source": [
    "browser.find_element_by_xpath('//*[@id=\"global-nav-typeahead\"]/input').send_keys(Keys.RETURN)"
   ]
  },
  {
   "cell_type": "code",
   "execution_count": null,
   "id": "5732db29",
   "metadata": {},
   "outputs": [],
   "source": [
    "sch_btn = browser.find_element_by_css_selector('#search-reusables__filters-bar > ul > li:nth-child(6) > button')\n",
    "sch_btn.click()"
   ]
  },
  {
   "cell_type": "code",
   "execution_count": null,
   "id": "1c2694bc",
   "metadata": {},
   "outputs": [],
   "source": [
    "fir_sch = browser.find_element_by_css_selector('ul > li:nth-child(1) > div > div > div.entity-result__universal-image > div > a')\n",
    "fir_sch.click()\n",
    "time.sleep(2)\n",
    "title = browser.find_element_by_css_selector('h1 > span')\n",
    "name = title.get_attribute('textContent')"
   ]
  },
  {
   "cell_type": "code",
   "execution_count": null,
   "id": "8f77412b",
   "metadata": {},
   "outputs": [],
   "source": [
    "view_btn = browser.find_element_by_xpath('//*[@id=\"main\"]/div/div/div[1]/div/a/div/div[2]/a/div/span')\n",
    "view_btn.click()"
   ]
  },
  {
   "cell_type": "code",
   "execution_count": null,
   "id": "4228f03b",
   "metadata": {},
   "outputs": [],
   "source": [
    "website = browser.find_element_by_class_name('ember-view.org-top-card-primary-actions__action')\n",
    "res = website.get_attribute(\"href\")\n",
    "res"
   ]
  },
  {
   "cell_type": "markdown",
   "id": "f9d2d806",
   "metadata": {},
   "source": [
    "# url"
   ]
  },
  {
   "cell_type": "code",
   "execution_count": null,
   "id": "10b117db",
   "metadata": {},
   "outputs": [],
   "source": [
    "url='https://www.linkedin.com/school/charles-darwin-university/'\n",
    "browser.get(url)"
   ]
  },
  {
   "cell_type": "code",
   "execution_count": null,
   "id": "50195b8e",
   "metadata": {},
   "outputs": [],
   "source": [
    "website = browser.find_element_by_class_name('ember-view.org-top-card-primary-actions__action')\n",
    "title = browser.find_element_by_css_selector('h1 > span')\n",
    "name = title.get_attribute('textContent')\n",
    "res = website.get_attribute(\"href\")\n",
    "res = re.findall('\\.(.+\\.au)', res)\n",
    "name"
   ]
  },
  {
   "cell_type": "markdown",
   "id": "b7f39c98",
   "metadata": {},
   "source": [
    "# formal scrape"
   ]
  },
  {
   "cell_type": "markdown",
   "id": "123e3d8a",
   "metadata": {},
   "source": [
    "## for url"
   ]
  },
  {
   "cell_type": "code",
   "execution_count": null,
   "id": "ee02381b",
   "metadata": {},
   "outputs": [],
   "source": [
    "import csv\n",
    "keys = []\n",
    "with open('schools_last.csv') as infile:\n",
    "    to_read = csv.reader(infile)\n",
    "    for row in to_read:\n",
    "        keys.append(row[0])\n",
    "del keys[0]"
   ]
  },
  {
   "cell_type": "code",
   "execution_count": null,
   "id": "a5bf54cd",
   "metadata": {},
   "outputs": [],
   "source": [
    "len(keys)"
   ]
  },
  {
   "cell_type": "code",
   "execution_count": null,
   "id": "f5cb28b9",
   "metadata": {},
   "outputs": [],
   "source": [
    "schs= []\n",
    "for i in range(len(keys)):\n",
    "    schs.append(keys[i].lower())\n",
    "    schs[i] = schs[i].replace(' ', '-')\n",
    "schs[0:5]"
   ]
  },
  {
   "cell_type": "code",
   "execution_count": null,
   "id": "f9e00f9b",
   "metadata": {},
   "outputs": [],
   "source": [
    "urls = []\n",
    "for sch in schs:\n",
    "    urls.append('https://www.linkedin.com/school/' + sch + '/')\n",
    "urls[0:5]"
   ]
  },
  {
   "cell_type": "code",
   "execution_count": null,
   "id": "a1a5d3bb",
   "metadata": {},
   "outputs": [],
   "source": [
    "import random\n",
    "ans = []\n",
    "for url in urls:\n",
    "    t = random.randint(3,6)\n",
    "    length = len(ans)\n",
    "    browser.get(url)\n",
    "    time.sleep(t)\n",
    "    try:\n",
    "        website = browser.find_element_by_class_name('ember-view.org-top-card-primary-actions__action')\n",
    "        title = browser.find_element_by_css_selector('h1 > span')\n",
    "        name = title.get_attribute('textContent')\n",
    "        res = website.get_attribute('href')\n",
    "        ans.append([res, name])\n",
    "    except:\n",
    "        ans.append([' ', ' '])"
   ]
  },
  {
   "cell_type": "code",
   "execution_count": null,
   "id": "ce36b8df",
   "metadata": {},
   "outputs": [],
   "source": [
    "safe = ans\n",
    "for i in range(len(ans)):\n",
    "    try:\n",
    "        ans[i][0] = re.findall('://(.+\\.cn)', ans[i][0])[0]\n",
    "        ans[i][0] = re.sub('www.', '', ans[i][0])\n",
    "        print(ans[i])\n",
    "    except:\n",
    "        print(ans[i])\n",
    "        continue"
   ]
  },
  {
   "cell_type": "code",
   "execution_count": null,
   "id": "1f66eb04",
   "metadata": {},
   "outputs": [],
   "source": [
    "import pandas as pd\n",
    "df1 = pd.DataFrame(ans)\n",
    "df1.to_csv(\"res_MC.csv\")"
   ]
  },
  {
   "cell_type": "markdown",
   "id": "0f436c50",
   "metadata": {},
   "source": [
    "## search bar to add more"
   ]
  },
  {
   "cell_type": "code",
   "execution_count": null,
   "id": "0747df0f",
   "metadata": {},
   "outputs": [],
   "source": [
    "ans1 = []\n",
    "for key in keys:\n",
    "    rnd = random.randint(5,8)\n",
    "    search_bar = browser.find_element_by_xpath('//*[@id=\"global-nav-typeahead\"]/input')\n",
    "    search_bar.clear()\n",
    "    time.sleep(1)\n",
    "    search_bar.send_keys(key)\n",
    "    browser.find_element_by_xpath('//*[@id=\"global-nav-typeahead\"]/input').send_keys(Keys.RETURN)\n",
    "    try:\n",
    "        sch_btn = browser.find_element_by_css_selector('#search-reusables__filters-bar > ul > li:nth-child(6) > button')\n",
    "        sch_btn.click()\n",
    "        time.sleep(rnd)\n",
    "    except:\n",
    "        try:\n",
    "            fir_sch = browser.find_element_by_css_selector('ul > li:nth-child(1) > div > div > div.entity-result__universal-image > div > a')\n",
    "            fir_sch.click()\n",
    "            time.sleep(rnd+3)\n",
    "            title = browser.find_element_by_css_selector('h1 > span')\n",
    "            name = title.get_attribute('textContent')\n",
    "            website = browser.find_element_by_class_name('ember-view.org-top-card-primary-actions__action')\n",
    "            res = website.get_attribute(\"href\")\n",
    "            ans1.append([res, name])\n",
    "        except:\n",
    "            ans1.append([' ', ' '])"
   ]
  },
  {
   "cell_type": "code",
   "execution_count": null,
   "id": "791237fd",
   "metadata": {},
   "outputs": [],
   "source": [
    "ans1 = []\n",
    "for key in keys:\n",
    "    rnd = random.randint(4,6)\n",
    "    search_bar = browser.find_element_by_xpath('//*[@id=\"global-nav-typeahead\"]/input')\n",
    "    search_bar.clear()\n",
    "    time.sleep(0.1)\n",
    "    search_bar.send_keys(key)\n",
    "    browser.find_element_by_xpath('//*[@id=\"global-nav-typeahead\"]/input').send_keys(Keys.RETURN)\n",
    "    time.sleep(3)\n",
    "    try:\n",
    "        sch_btn = browser.find_element_by_css_selector('ul > li:nth-child(6) > button')\n",
    "        sch_btn.click()\n",
    "        time.sleep(rnd)\n",
    "        fir_sch = browser.find_element_by_css_selector('ul > li:nth-child(1) > div > div > div.entity-result__universal-image > div > a')\n",
    "        fir_sch.click()\n",
    "        time.sleep(rnd)\n",
    "        try:\n",
    "            title = browser.find_element_by_css_selector('h1 > span')\n",
    "            name = title.get_attribute('textContent')\n",
    "            website = browser.find_element_by_class_name('ember-view.org-top-card-primary-actions__action')\n",
    "            res = website.get_attribute(\"href\")\n",
    "            ans1.append([res, name])\n",
    "        except:\n",
    "            ans1.append([' ', ' '])\n",
    "    except:\n",
    "        try:\n",
    "            fir_sch = browser.find_element_by_css_selector('ul > li:nth-child(1) > div > div > div.entity-result__universal-image > div > a')\n",
    "            fir_sch.click()\n",
    "            time.sleep(rnd)\n",
    "            try:\n",
    "                title = browser.find_element_by_css_selector('h1 > span')\n",
    "                name = title.get_attribute('textContent')\n",
    "                website = browser.find_element_by_class_name('ember-view.org-top-card-primary-actions__action')\n",
    "                res = website.get_attribute(\"href\")\n",
    "                ans1.append([res, name])\n",
    "            except:\n",
    "                ans1.append([' ', ' '])\n",
    "        except:\n",
    "            ans1.append([' ', ' '])"
   ]
  },
  {
   "cell_type": "code",
   "execution_count": null,
   "id": "f2237964",
   "metadata": {},
   "outputs": [],
   "source": [
    "ans1"
   ]
  },
  {
   "cell_type": "code",
   "execution_count": null,
   "id": "49c9868d",
   "metadata": {},
   "outputs": [],
   "source": [
    "safe1 = ans1\n",
    "for i in range(len(ans1)):\n",
    "    try:\n",
    "        ans1[i][0] = re.findall('://(.+\\.cl)', ans1[i][0])[0]\n",
    "        ans1[i][0] = re.sub('www.', '', ans1[i][0])\n",
    "    except:\n",
    "        continue"
   ]
  },
  {
   "cell_type": "code",
   "execution_count": null,
   "id": "1d35337a",
   "metadata": {},
   "outputs": [],
   "source": [
    "import pandas as pd\n",
    "df1 = pd.DataFrame(ans1)\n",
    "df1.to_csv(\"res_last.csv\")"
   ]
  },
  {
   "cell_type": "code",
   "execution_count": null,
   "id": "b1d44d31",
   "metadata": {},
   "outputs": [],
   "source": [
    "# ans1 = []\n",
    "# for i in range(len(keys)):\n",
    "#     rnd = random.randint(4,6)\n",
    "#     search_bar = browser.find_element_by_xpath('//*[@id=\"global-nav-typeahead\"]/input')\n",
    "#     search_bar.clear()\n",
    "#     time.sleep(1)\n",
    "#     search_bar.send_keys(keys[i])\n",
    "#     browser.find_element_by_xpath('//*[@id=\"global-nav-typeahead\"]/input').send_keys(Keys.RETURN)\n",
    "#     time.sleep(3)\n",
    "#     try:\n",
    "#         sch_btn = browser.find_element_by_css_selector('ul > li:nth-child(6) > button')\n",
    "#         sch_btn.click()\n",
    "#         time.sleep(rnd)\n",
    "#         fir_sch = browser.find_element_by_css_selector('ul > li:nth-child(1) > div > div > div.entity-result__universal-image > div > a')\n",
    "#         fir_sch.click()\n",
    "#         time.sleep(rnd)\n",
    "#         try:\n",
    "#             title = browser.find_element_by_css_selector('h1 > span')\n",
    "#             name = title.get_attribute('textContent')\n",
    "#             website = browser.find_element_by_class_name('ember-view.org-top-card-primary-actions__action')\n",
    "#             res = website.get_attribute(\"href\")\n",
    "#             ans1.append([res, name])\n",
    "#             if ans[i][0] == '':\n",
    "#                 ans[i][0] = res\n",
    "#                 ans[i][1] = name\n",
    "#         except:\n",
    "#             ans1.append([' ', ' '])\n",
    "#     except:\n",
    "#         fir_sch = browser.find_element_by_css_selector('ul > li:nth-child(1) > div > div > div.entity-result__universal-image > div > a')\n",
    "#         fir_sch.click()\n",
    "#         time.sleep(rnd)\n",
    "#         try:\n",
    "#             title = browser.find_element_by_css_selector('h1 > span')\n",
    "#             name = title.get_attribute('textContent')\n",
    "#             website = browser.find_element_by_class_name('ember-view.org-top-card-primary-actions__action')\n",
    "#             res = website.get_attribute(\"href\")\n",
    "#             ans1.append([res, name])\n",
    "#             if ans[i][0] == '':\n",
    "#                 ans[i][0] = res\n",
    "#                 ans[i][1] = name\n",
    "#         except:\n",
    "#             ans1.append([' ', ' '])"
   ]
  }
 ],
 "metadata": {
  "kernelspec": {
   "display_name": "Python 3",
   "language": "python",
   "name": "python3"
  },
  "language_info": {
   "codemirror_mode": {
    "name": "ipython",
    "version": 3
   },
   "file_extension": ".py",
   "mimetype": "text/x-python",
   "name": "python",
   "nbconvert_exporter": "python",
   "pygments_lexer": "ipython3",
   "version": "3.8.8"
  }
 },
 "nbformat": 4,
 "nbformat_minor": 5
}
